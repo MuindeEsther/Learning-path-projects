{
 "cells": [
  {
   "cell_type": "code",
   "execution_count": 1,
   "metadata": {},
   "outputs": [
    {
     "name": "stdout",
     "output_type": "stream",
     "text": [
      "         State  Population  Murder Rate Abbreviation\n",
      "0      Alabama     4779736          5.7           AL\n",
      "1       Alaska      710231          5.6           AK\n",
      "2      Arizona     6392017          4.7           AZ\n",
      "3     Arkansas     2915918          5.6           AR\n",
      "4   California    37253956          4.4           CA\n",
      "5     Colorado     5029196          2.8           CO\n",
      "6  Connecticut     3574097          2.4           CT\n",
      "7     Delaware      897934          5.8           DE\n"
     ]
    }
   ],
   "source": [
    "import pandas as pd\n",
    "\n",
    "data = {\n",
    "    'State': ['Alabama', 'Alaska', 'Arizona', 'Arkansas', 'California', 'Colorado', 'Connecticut', 'Delaware'],\n",
    "    'Population': [4779736, 710231, 6392017, 2915918, 37253956, 5029196, 3574097, 897934],\n",
    "    'Murder Rate': [5.7, 5.6, 4.7, 5.6, 4.4, 2.8, 2.4, 5.8],\n",
    "    'Abbreviation':['AL', 'AK', 'AZ', 'AR', 'CA', 'CO', 'CT', 'DE']\n",
    "}\n",
    "\n",
    "df = pd.DataFrame(data)\n",
    "\n",
    "print(df)"
   ]
  },
  {
   "cell_type": "markdown",
   "metadata": {},
   "source": [
    "### Measures of Location\n",
    "\n",
    "* Mean\n",
    "* Median\n",
    "* Weighted Mean\n",
    "* Trimmed Mean\n",
    "\n",
    "Example: Location Estimates of Population and Murder Rates\n",
    "\n"
   ]
  },
  {
   "cell_type": "code",
   "execution_count": 3,
   "metadata": {},
   "outputs": [
    {
     "name": "stdout",
     "output_type": "stream",
     "text": [
      "Mean Population: 7694135.625\n",
      "Trimmed Mean Population (10% trim): 7694135.625\n",
      "Median Population: 4176916.5\n"
     ]
    }
   ],
   "source": [
    "import scipy.stats\n",
    "\n",
    "# Calculate the mean of the 'Population' column\n",
    "population_mean = df['Population'].mean()\n",
    "\n",
    "# Calculate the trimmed mean(10% trim)\n",
    "population_trimmedmean = scipy.stats.trim_mean(df['Population'], proportiontocut=0.1)\n",
    "\n",
    "# Calculate the median of the 'Population' column\n",
    "population_median = df['Population'].median()\n",
    "\n",
    "print(\"Mean Population:\", population_mean)\n",
    "print(\"Trimmed Mean Population (10% trim):\", population_trimmedmean)\n",
    "print(\"Median Population:\", population_median)"
   ]
  },
  {
   "cell_type": "markdown",
   "metadata": {},
   "source": [
    "#### Estimates of Variability/dispersion\n",
    "They measure whether data values are tightly clustered or spread out\n",
    "* Deviations i.e The difference between the observed values and the estimate of location( erros, residuals)\n",
    "* Variance The sum of squared deviations from the mean(mean-squared-error)\n",
    "* Standard deviation: The square root of the variance (12-morm, Euclidean norm)\n",
    "* Mean absolute deviation : The mean of the absolute values of the deviations form mean(I1-norm, Manhattan norm)\n",
    "* Median absolute deviation from the median : The median of the absolute values of the deviations from the median\n",
    "* Range: The difference between the largest and the smallest value in a data set\n",
    "* Order statistics\n",
    "Metrics based on the data values sorted from the smallest to biggest(ranks)\n",
    "* Percentile: The value such that P percent of the values take on thi value or less and (100-P) percent take on this value or more(quartile)\n",
    "* Interquartile range: The difference between the 75th percentile and the 25th percentile(IQR)"
   ]
  },
  {
   "cell_type": "code",
   "execution_count": 6,
   "metadata": {},
   "outputs": [
    {
     "ename": "ModuleNotFoundError",
     "evalue": "No module named 'statsmodel'",
     "output_type": "error",
     "traceback": [
      "\u001b[1;31m---------------------------------------------------------------------------\u001b[0m",
      "\u001b[1;31mModuleNotFoundError\u001b[0m                       Traceback (most recent call last)",
      "\u001b[1;32m<ipython-input-6-f53e2575e441>\u001b[0m in \u001b[0;36m<module>\u001b[1;34m\u001b[0m\n\u001b[1;32m----> 1\u001b[1;33m \u001b[1;32mimport\u001b[0m \u001b[0mstatsmodel\u001b[0m\u001b[1;33m\u001b[0m\u001b[1;33m\u001b[0m\u001b[0m\n\u001b[0m",
      "\u001b[1;31mModuleNotFoundError\u001b[0m: No module named 'statsmodel'"
     ]
    }
   ],
   "source": [
    "import statsmodel"
   ]
  },
  {
   "cell_type": "markdown",
   "metadata": {},
   "source": [
    "### Exploring the Data Distribution\n",
    "\n",
    "##### Boxplot\n",
    "A  quick way to visualize the distribution of data\n",
    "\n",
    "##### Frequecy table\n",
    "A tally of the count of numeric data values that fall into a set of intervals(bins)\n",
    "\n",
    "##### Histogram\n",
    "A plot of the frequency table with the bins on the x-axi and the count(or proportion) on the y-axis.\n",
    "\n",
    "##### Density plot\n",
    "A smoothed version of the histogram, often based on a kernel density estimate\n",
    "\n",
    "\n"
   ]
  },
  {
   "cell_type": "markdown",
   "metadata": {},
   "source": [
    "### Exploring Binary and Categorical Data\n",
    "For categorical data, simple proportions or percentages tell the story of the data\n",
    "#### Key terms\n",
    "* Mode\n",
    "* Expected value\n",
    "* Bar Charts\n",
    "* Pie charts\n",
    "\n",
    "### Correlation\n",
    "#### Correlation coefficient\n",
    "A metric that measures the extent to which numeric variables are associated with one another(ranges from -1 to +1)\n",
    "\n",
    "#### Correlation matrix\n",
    "A table where the variables are shown on both rows and columns, and the cell values are the correlations between the variables.\n",
    "\n",
    "#### Scatterplot\n",
    "A plot in which the x-axis is the value of one variable, and the y-axis the value of another\n",
    "\n",
    "### Exploring Two or More Variables\n",
    "\n",
    "#### Contigency tables\n",
    "A tally of counts between two or more categorical variables\n",
    "\n",
    "#### Hexagonal binning\n",
    "A plot of two numeric variables with the records binned into hexagons\n",
    "\n",
    "#### Contour plots\n",
    "A plot showing the density of two numeric variables like a topographical map\n",
    "\n",
    "#### Violin plots\n",
    "Similar to a boxplot but showing the density estimate\n"
   ]
  }
 ],
 "metadata": {
  "kernelspec": {
   "display_name": "base",
   "language": "python",
   "name": "python3"
  },
  "language_info": {
   "codemirror_mode": {
    "name": "ipython",
    "version": 3
   },
   "file_extension": ".py",
   "mimetype": "text/x-python",
   "name": "python",
   "nbconvert_exporter": "python",
   "pygments_lexer": "ipython3",
   "version": "3.7.6"
  },
  "orig_nbformat": 4
 },
 "nbformat": 4,
 "nbformat_minor": 2
}
