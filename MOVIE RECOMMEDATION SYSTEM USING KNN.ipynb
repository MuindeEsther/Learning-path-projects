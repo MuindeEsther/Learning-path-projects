{
 "cells": [
  {
   "cell_type": "markdown",
   "metadata": {},
   "source": [
    "## Movie Recommedation System using User Movie Ratings Data\n",
    "\n",
    "\n",
    "# Using KNN Clustering\n",
    "\n",
    "  > Collaborate Filtering Recommedation Engine\n",
    "  > Content Based filtering Recommedaton Engine\n",
    "  > Hybrid model\n",
    "  \n",
    "# Collaborative Filtering Recommedation Engine\n",
    "\n",
    "This is a recommendation system that creates a prediction based on a user's preveious behaviors\n",
    "\n",
    "A recommender system suggests which text should be read next, which movie should be watched, and which product should be bought, creating a stickiness\n",
    "factor to any product or service. Its unique algorithms are designed to predict a user's interest and suggest different products to the users in many different ways and retain that interest till the end.\n",
    "\n",
    "Collaborative filtering needs a set of items that are based on user's historical choices.This system does not require a good amount of product features to work. An embedding or feature vector describes each item and User, and it sinks both the items and the users in a similar embedding locaton.It creates enclosures for items and users on its own.It keeps track of the behavior of all users before recommending which item is mostly liked by users.\n",
    "\n",
    "Two sources are used to record the interaction of a product user.\n",
    "  1. Through implicit feedback, User likes and dislikes are recorded and noticed by their actions like clicks, listening to music tracks, searches, purchase records, page views, etc.\n",
    "  2. Explicit feedback is when a customer specifies dislikes or likes by rating or reacting against any specific product on a scale of 1 to 5 stars\n",
    "  \n",
    " # Content-based filtering\n",
    " Many product's features are required to implement content-based filtering instead of user feedback or interaction. It is a ML technique that is used to decide the outcomes based on product similarities.\n",
    " \n",
    " Content-based filtering algorithms are designed to recommend products based on the accumulated knowledge of users. It is all about comparing user interest with product features\n",
    " \n",
    " \n",
    "# Hybrid Filtering\n",
    " This is a mixture of collaborative and content-based filtering methods while making suggestions.The data consist of aggregating similar calculations\n",
    "\n"
   ]
  },
  {
   "cell_type": "code",
   "execution_count": 1,
   "metadata": {},
   "outputs": [],
   "source": [
    "# Importing basic libraries\n",
    "import pandas as pd\n",
    "import numpy as np\n"
   ]
  },
  {
   "cell_type": "markdown",
   "metadata": {},
   "source": [
    "Importing Datasets\n",
    "\n",
    "Context - The datasets describes ratings and free-text tagging activities from MovieLens, a movie recommendaton service. It contains 20000263 ratings and 465564 tag applications across 27278 movies.\n",
    "\n",
    "Users were selected at random for inclusion. All selected users had rated at least 20 movies"
   ]
  },
  {
   "cell_type": "code",
   "execution_count": 2,
   "metadata": {},
   "outputs": [
    {
     "name": "stdout",
     "output_type": "stream",
     "text": [
      "C:/Users/PYTHON/OneDrive/Desktop/CSV.FILES\\Blue Business Creative Practical Template.pdf\n",
      "C:/Users/PYTHON/OneDrive/Desktop/CSV.FILES\\catalog(1).csv\n",
      "C:/Users/PYTHON/OneDrive/Desktop/CSV.FILES\\cust_dimen.csv\n",
      "C:/Users/PYTHON/OneDrive/Desktop/CSV.FILES\\dataset.csv\n",
      "C:/Users/PYTHON/OneDrive/Desktop/CSV.FILES\\genome_scores.csv\n",
      "C:/Users/PYTHON/OneDrive/Desktop/CSV.FILES\\genome_tags.csv\n",
      "C:/Users/PYTHON/OneDrive/Desktop/CSV.FILES\\grades.txt\n",
      "C:/Users/PYTHON/OneDrive/Desktop/CSV.FILES\\heights and weights (2).csv\n",
      "C:/Users/PYTHON/OneDrive/Desktop/CSV.FILES\\holidays_events.csv\n",
      "C:/Users/PYTHON/OneDrive/Desktop/CSV.FILES\\IXIC.csv\n",
      "C:/Users/PYTHON/OneDrive/Desktop/CSV.FILES\\KEIR81FL.DOCX\n",
      "C:/Users/PYTHON/OneDrive/Desktop/CSV.FILES\\KEIR81FL.DTA\n",
      "C:/Users/PYTHON/OneDrive/Desktop/CSV.FILES\\laterite_mobilemoney_data.csv\n",
      "C:/Users/PYTHON/OneDrive/Desktop/CSV.FILES\\Law Enforcement Perceptions of Drug Addiction.xlsx\n",
      "C:/Users/PYTHON/OneDrive/Desktop/CSV.FILES\\link.csv\n",
      "C:/Users/PYTHON/OneDrive/Desktop/CSV.FILES\\logdata.txt\n",
      "C:/Users/PYTHON/OneDrive/Desktop/CSV.FILES\\market_fact.csv\n",
      "C:/Users/PYTHON/OneDrive/Desktop/CSV.FILES\\mnist_test.csv\n",
      "C:/Users/PYTHON/OneDrive/Desktop/CSV.FILES\\mnist_train.csv\n",
      "C:/Users/PYTHON/OneDrive/Desktop/CSV.FILES\\movie.csv\n",
      "C:/Users/PYTHON/OneDrive/Desktop/CSV.FILES\\netflix_titles.csv\n",
      "C:/Users/PYTHON/OneDrive/Desktop/CSV.FILES\\nflplay by play 2009-2017 (v4).csv\n",
      "C:/Users/PYTHON/OneDrive/Desktop/CSV.FILES\\oil.csv\n",
      "C:/Users/PYTHON/OneDrive/Desktop/CSV.FILES\\orders_dimen.csv\n",
      "C:/Users/PYTHON/OneDrive/Desktop/CSV.FILES\\prod_dimen.csv\n",
      "C:/Users/PYTHON/OneDrive/Desktop/CSV.FILES\\rating.csv\n",
      "C:/Users/PYTHON/OneDrive/Desktop/CSV.FILES\\sampleSubmission.csv\n",
      "C:/Users/PYTHON/OneDrive/Desktop/CSV.FILES\\sample_submission.csv\n",
      "C:/Users/PYTHON/OneDrive/Desktop/CSV.FILES\\shipping_dimen.csv\n",
      "C:/Users/PYTHON/OneDrive/Desktop/CSV.FILES\\SOCR-HeightWeight.csv\n",
      "C:/Users/PYTHON/OneDrive/Desktop/CSV.FILES\\stores.csv\n",
      "C:/Users/PYTHON/OneDrive/Desktop/CSV.FILES\\tag.csv\n",
      "C:/Users/PYTHON/OneDrive/Desktop/CSV.FILES\\test.csv\n",
      "C:/Users/PYTHON/OneDrive/Desktop/CSV.FILES\\train.csv\n",
      "C:/Users/PYTHON/OneDrive/Desktop/CSV.FILES\\winemag-data-130k-v2.csv\n",
      "C:/Users/PYTHON/OneDrive/Desktop/CSV.FILES\\winequality-red.csv\n",
      "C:/Users/PYTHON/OneDrive/Desktop/CSV.FILES\\box office\\Box_office_prediction.csv\n",
      "C:/Users/PYTHON/OneDrive/Desktop/CSV.FILES\\box office\\test.csv\n",
      "C:/Users/PYTHON/OneDrive/Desktop/CSV.FILES\\box office\\train.csv\n",
      "C:/Users/PYTHON/OneDrive/Desktop/CSV.FILES\\box office\\train.csv1.csv\n",
      "C:/Users/PYTHON/OneDrive/Desktop/CSV.FILES\\catinthedat\\sample_submission.csv\n",
      "C:/Users/PYTHON/OneDrive/Desktop/CSV.FILES\\catinthedat\\test.csv\n",
      "C:/Users/PYTHON/OneDrive/Desktop/CSV.FILES\\catinthedat\\train.csv\n",
      "C:/Users/PYTHON/OneDrive/Desktop/CSV.FILES\\KEFW81DT\\KEFW81FL.DCT\n",
      "C:/Users/PYTHON/OneDrive/Desktop/CSV.FILES\\KEFW81DT\\KEFW81FL.DO\n",
      "C:/Users/PYTHON/OneDrive/Desktop/CSV.FILES\\KEFW81DT\\KEFW81FL.DTA\n",
      "C:/Users/PYTHON/OneDrive/Desktop/CSV.FILES\\KEFW81DT\\KEFW81FL.MAP\n"
     ]
    },
    {
     "name": "stdout",
     "output_type": "stream",
     "text": [
      "C:/Users/PYTHON/OneDrive/Desktop/CSV.FILES\\KEHR81DT\\KEHR81FL.DCT\n",
      "C:/Users/PYTHON/OneDrive/Desktop/CSV.FILES\\KEHR81DT\\KEHR81FL.DO\n",
      "C:/Users/PYTHON/OneDrive/Desktop/CSV.FILES\\KEHR81DT\\KEHR81FL.DTA\n",
      "C:/Users/PYTHON/OneDrive/Desktop/CSV.FILES\\KEHR81DT\\KEHR81FL.FRQ\n",
      "C:/Users/PYTHON/OneDrive/Desktop/CSV.FILES\\KEHR81DT\\KEHR81FL.FRW\n",
      "C:/Users/PYTHON/OneDrive/Desktop/CSV.FILES\\KEHR81DT\\KEHR81FL.MAP\n",
      "C:/Users/PYTHON/OneDrive/Desktop/CSV.FILES\\KEIR81DT\\KEIR81FL.DCT\n",
      "C:/Users/PYTHON/OneDrive/Desktop/CSV.FILES\\KEIR81DT\\KEIR81FL.DO\n",
      "C:/Users/PYTHON/OneDrive/Desktop/CSV.FILES\\KEIR81DT\\KEIR81FL.DOCX\n",
      "C:/Users/PYTHON/OneDrive/Desktop/CSV.FILES\\KEIR81DT\\KEIR81FL.DTA\n",
      "C:/Users/PYTHON/OneDrive/Desktop/CSV.FILES\\KEIR81DT\\KEIR81FL.FRQ\n",
      "C:/Users/PYTHON/OneDrive/Desktop/CSV.FILES\\KEIR81DT\\KEIR81FL.FRW\n",
      "C:/Users/PYTHON/OneDrive/Desktop/CSV.FILES\\KEIR81DT\\KEIR81FL.MAP\n",
      "C:/Users/PYTHON/OneDrive/Desktop/CSV.FILES\\KEKR81DT\\KEKR81FL.DCT\n",
      "C:/Users/PYTHON/OneDrive/Desktop/CSV.FILES\\KEKR81DT\\KEKR81FL.DO\n",
      "C:/Users/PYTHON/OneDrive/Desktop/CSV.FILES\\KEKR81DT\\KEKR81FL.DTA\n",
      "C:/Users/PYTHON/OneDrive/Desktop/CSV.FILES\\KEKR81DT\\KEKR81FL.FRQ\n",
      "C:/Users/PYTHON/OneDrive/Desktop/CSV.FILES\\KEKR81DT\\KEKR81FL.FRW\n",
      "C:/Users/PYTHON/OneDrive/Desktop/CSV.FILES\\KEKR81DT\\KEKR81FL.MAP\n",
      "C:/Users/PYTHON/OneDrive/Desktop/CSV.FILES\\KEPR81DT\\KEPR81FL.DCT\n",
      "C:/Users/PYTHON/OneDrive/Desktop/CSV.FILES\\KEPR81DT\\KEPR81FL.DO\n",
      "C:/Users/PYTHON/OneDrive/Desktop/CSV.FILES\\KEPR81DT\\KEPR81FL.DTA\n",
      "C:/Users/PYTHON/OneDrive/Desktop/CSV.FILES\\KEPR81DT\\KEPR81FL.FRQ\n",
      "C:/Users/PYTHON/OneDrive/Desktop/CSV.FILES\\KEPR81DT\\KEPR81FL.FRW\n",
      "C:/Users/PYTHON/OneDrive/Desktop/CSV.FILES\\KEPR81DT\\KEPR81FL.MAP\n",
      "C:/Users/PYTHON/OneDrive/Desktop/CSV.FILES\\Store sales ecuador\\holidays_events.csv\n",
      "C:/Users/PYTHON/OneDrive/Desktop/CSV.FILES\\Store sales ecuador\\oil.csv\n",
      "C:/Users/PYTHON/OneDrive/Desktop/CSV.FILES\\Store sales ecuador\\sample_submission.csv\n",
      "C:/Users/PYTHON/OneDrive/Desktop/CSV.FILES\\Store sales ecuador\\stores.csv\n",
      "C:/Users/PYTHON/OneDrive/Desktop/CSV.FILES\\Store sales ecuador\\test.csv\n",
      "C:/Users/PYTHON/OneDrive/Desktop/CSV.FILES\\Store sales ecuador\\train.csv\n",
      "C:/Users/PYTHON/OneDrive/Desktop/CSV.FILES\\Store sales ecuador\\transactions.csv\n"
     ]
    }
   ],
   "source": [
    "import os\n",
    "for dirname, _ , filenames in os.walk('C:/Users/PYTHON/OneDrive/Desktop/CSV.FILES'):\n",
    "    for filename in filenames:\n",
    "        print(os.path.join(dirname, filename))"
   ]
  },
  {
   "cell_type": "code",
   "execution_count": 3,
   "metadata": {},
   "outputs": [
    {
     "data": {
      "text/html": [
       "<div>\n",
       "<style scoped>\n",
       "    .dataframe tbody tr th:only-of-type {\n",
       "        vertical-align: middle;\n",
       "    }\n",
       "\n",
       "    .dataframe tbody tr th {\n",
       "        vertical-align: top;\n",
       "    }\n",
       "\n",
       "    .dataframe thead th {\n",
       "        text-align: right;\n",
       "    }\n",
       "</style>\n",
       "<table border=\"1\" class=\"dataframe\">\n",
       "  <thead>\n",
       "    <tr style=\"text-align: right;\">\n",
       "      <th></th>\n",
       "      <th>movieId</th>\n",
       "      <th>title</th>\n",
       "    </tr>\n",
       "  </thead>\n",
       "  <tbody>\n",
       "    <tr>\n",
       "      <th>0</th>\n",
       "      <td>1</td>\n",
       "      <td>Toy Story (1995)</td>\n",
       "    </tr>\n",
       "    <tr>\n",
       "      <th>1</th>\n",
       "      <td>2</td>\n",
       "      <td>Jumanji (1995)</td>\n",
       "    </tr>\n",
       "    <tr>\n",
       "      <th>2</th>\n",
       "      <td>3</td>\n",
       "      <td>Grumpier Old Men (1995)</td>\n",
       "    </tr>\n",
       "    <tr>\n",
       "      <th>3</th>\n",
       "      <td>4</td>\n",
       "      <td>Waiting to Exhale (1995)</td>\n",
       "    </tr>\n",
       "    <tr>\n",
       "      <th>4</th>\n",
       "      <td>5</td>\n",
       "      <td>Father of the Bride Part II (1995)</td>\n",
       "    </tr>\n",
       "  </tbody>\n",
       "</table>\n",
       "</div>"
      ],
      "text/plain": [
       "   movieId                               title\n",
       "0        1                    Toy Story (1995)\n",
       "1        2                      Jumanji (1995)\n",
       "2        3             Grumpier Old Men (1995)\n",
       "3        4            Waiting to Exhale (1995)\n",
       "4        5  Father of the Bride Part II (1995)"
      ]
     },
     "execution_count": 3,
     "metadata": {},
     "output_type": "execute_result"
    }
   ],
   "source": [
    "# usecols allows us to select our choice of features\n",
    "movies_df=pd.read_csv('C:/Users/PYTHON/OneDrive/Desktop/CSV.FILES/movie.csv', usecols=['movieId','title'], dtype={'movieId':'int32','title':'str'})\n",
    "movies_df.head()"
   ]
  },
  {
   "cell_type": "code",
   "execution_count": 4,
   "metadata": {},
   "outputs": [
    {
     "data": {
      "text/html": [
       "<div>\n",
       "<style scoped>\n",
       "    .dataframe tbody tr th:only-of-type {\n",
       "        vertical-align: middle;\n",
       "    }\n",
       "\n",
       "    .dataframe tbody tr th {\n",
       "        vertical-align: top;\n",
       "    }\n",
       "\n",
       "    .dataframe thead th {\n",
       "        text-align: right;\n",
       "    }\n",
       "</style>\n",
       "<table border=\"1\" class=\"dataframe\">\n",
       "  <thead>\n",
       "    <tr style=\"text-align: right;\">\n",
       "      <th></th>\n",
       "      <th>userId</th>\n",
       "      <th>movieId</th>\n",
       "      <th>rating</th>\n",
       "      <th>timestamp</th>\n",
       "    </tr>\n",
       "  </thead>\n",
       "  <tbody>\n",
       "    <tr>\n",
       "      <th>0</th>\n",
       "      <td>1</td>\n",
       "      <td>2</td>\n",
       "      <td>3.5</td>\n",
       "      <td>2005-04-02 23:53:47</td>\n",
       "    </tr>\n",
       "    <tr>\n",
       "      <th>1</th>\n",
       "      <td>1</td>\n",
       "      <td>29</td>\n",
       "      <td>3.5</td>\n",
       "      <td>2005-04-02 23:31:16</td>\n",
       "    </tr>\n",
       "    <tr>\n",
       "      <th>2</th>\n",
       "      <td>1</td>\n",
       "      <td>32</td>\n",
       "      <td>3.5</td>\n",
       "      <td>2005-04-02 23:33:39</td>\n",
       "    </tr>\n",
       "    <tr>\n",
       "      <th>3</th>\n",
       "      <td>1</td>\n",
       "      <td>47</td>\n",
       "      <td>3.5</td>\n",
       "      <td>2005-04-02 23:32:07</td>\n",
       "    </tr>\n",
       "    <tr>\n",
       "      <th>4</th>\n",
       "      <td>1</td>\n",
       "      <td>50</td>\n",
       "      <td>3.5</td>\n",
       "      <td>2005-04-02 23:29:40</td>\n",
       "    </tr>\n",
       "  </tbody>\n",
       "</table>\n",
       "</div>"
      ],
      "text/plain": [
       "   userId  movieId  rating            timestamp\n",
       "0       1        2     3.5  2005-04-02 23:53:47\n",
       "1       1       29     3.5  2005-04-02 23:31:16\n",
       "2       1       32     3.5  2005-04-02 23:33:39\n",
       "3       1       47     3.5  2005-04-02 23:32:07\n",
       "4       1       50     3.5  2005-04-02 23:29:40"
      ]
     },
     "execution_count": 4,
     "metadata": {},
     "output_type": "execute_result"
    }
   ],
   "source": [
    "ratings_df=pd.read_csv('C:/Users/PYTHON/OneDrive/Desktop/CSV.FILES/rating.csv', usecols=['userId','movieId','rating','timestamp'], dtype={'userId':'int32','movieId':'int32','rating':'float32'})\n",
    "ratings_df.head()"
   ]
  },
  {
   "cell_type": "code",
   "execution_count": 5,
   "metadata": {},
   "outputs": [
    {
     "data": {
      "text/plain": [
       "movieId    0\n",
       "title      0\n",
       "dtype: int64"
      ]
     },
     "execution_count": 5,
     "metadata": {},
     "output_type": "execute_result"
    }
   ],
   "source": [
    "#checking for NAN values\n",
    "movies_df.isnull().sum()"
   ]
  },
  {
   "cell_type": "code",
   "execution_count": 6,
   "metadata": {},
   "outputs": [
    {
     "data": {
      "text/plain": [
       "userId       0\n",
       "movieId      0\n",
       "rating       0\n",
       "timestamp    0\n",
       "dtype: int64"
      ]
     },
     "execution_count": 6,
     "metadata": {},
     "output_type": "execute_result"
    }
   ],
   "source": [
    "ratings_df.isnull().sum()"
   ]
  },
  {
   "cell_type": "code",
   "execution_count": 7,
   "metadata": {},
   "outputs": [
    {
     "name": "stdout",
     "output_type": "stream",
     "text": [
      "Movies: (27278, 2)\n",
      "Ratings: (20000263, 4)\n"
     ]
    }
   ],
   "source": [
    "print(\"Movies:\",movies_df.shape)\n",
    "print(\"Ratings:\",ratings_df.shape)"
   ]
  },
  {
   "cell_type": "markdown",
   "metadata": {},
   "source": [
    "# Merging the imported Datasets for analysis"
   ]
  },
  {
   "cell_type": "code",
   "execution_count": 8,
   "metadata": {},
   "outputs": [
    {
     "name": "stdout",
     "output_type": "stream",
     "text": [
      "<class 'pandas.core.frame.DataFrame'>\n",
      "RangeIndex: 27278 entries, 0 to 27277\n",
      "Data columns (total 2 columns):\n",
      " #   Column   Non-Null Count  Dtype \n",
      "---  ------   --------------  ----- \n",
      " 0   movieId  27278 non-null  int32 \n",
      " 1   title    27278 non-null  object\n",
      "dtypes: int32(1), object(1)\n",
      "memory usage: 319.8+ KB\n",
      "<class 'pandas.core.frame.DataFrame'>\n",
      "RangeIndex: 20000263 entries, 0 to 20000262\n",
      "Data columns (total 4 columns):\n",
      " #   Column     Dtype  \n",
      "---  ------     -----  \n",
      " 0   userId     int32  \n",
      " 1   movieId    int32  \n",
      " 2   rating     float32\n",
      " 3   timestamp  object \n",
      "dtypes: float32(1), int32(2), object(1)\n",
      "memory usage: 381.5+ MB\n"
     ]
    }
   ],
   "source": [
    "movies_df.info()\n",
    "ratings_df.info()"
   ]
  },
  {
   "cell_type": "code",
   "execution_count": 10,
   "metadata": {},
   "outputs": [
    {
     "data": {
      "text/html": [
       "<div>\n",
       "<style scoped>\n",
       "    .dataframe tbody tr th:only-of-type {\n",
       "        vertical-align: middle;\n",
       "    }\n",
       "\n",
       "    .dataframe tbody tr th {\n",
       "        vertical-align: top;\n",
       "    }\n",
       "\n",
       "    .dataframe thead th {\n",
       "        text-align: right;\n",
       "    }\n",
       "</style>\n",
       "<table border=\"1\" class=\"dataframe\">\n",
       "  <thead>\n",
       "    <tr style=\"text-align: right;\">\n",
       "      <th></th>\n",
       "      <th>movieId</th>\n",
       "      <th>title</th>\n",
       "      <th>userId</th>\n",
       "      <th>rating</th>\n",
       "      <th>timestamp</th>\n",
       "    </tr>\n",
       "  </thead>\n",
       "  <tbody>\n",
       "    <tr>\n",
       "      <th>0</th>\n",
       "      <td>1</td>\n",
       "      <td>Toy Story (1995)</td>\n",
       "      <td>3</td>\n",
       "      <td>4.0</td>\n",
       "      <td>1999-12-11 13:36:47</td>\n",
       "    </tr>\n",
       "    <tr>\n",
       "      <th>1</th>\n",
       "      <td>1</td>\n",
       "      <td>Toy Story (1995)</td>\n",
       "      <td>6</td>\n",
       "      <td>5.0</td>\n",
       "      <td>1997-03-13 17:50:52</td>\n",
       "    </tr>\n",
       "    <tr>\n",
       "      <th>2</th>\n",
       "      <td>1</td>\n",
       "      <td>Toy Story (1995)</td>\n",
       "      <td>8</td>\n",
       "      <td>4.0</td>\n",
       "      <td>1996-06-05 13:37:51</td>\n",
       "    </tr>\n",
       "    <tr>\n",
       "      <th>3</th>\n",
       "      <td>1</td>\n",
       "      <td>Toy Story (1995)</td>\n",
       "      <td>10</td>\n",
       "      <td>4.0</td>\n",
       "      <td>1999-11-25 02:44:47</td>\n",
       "    </tr>\n",
       "    <tr>\n",
       "      <th>4</th>\n",
       "      <td>1</td>\n",
       "      <td>Toy Story (1995)</td>\n",
       "      <td>11</td>\n",
       "      <td>4.5</td>\n",
       "      <td>2009-01-02 01:13:41</td>\n",
       "    </tr>\n",
       "  </tbody>\n",
       "</table>\n",
       "</div>"
      ],
      "text/plain": [
       "   movieId             title  userId  rating            timestamp\n",
       "0        1  Toy Story (1995)       3     4.0  1999-12-11 13:36:47\n",
       "1        1  Toy Story (1995)       6     5.0  1997-03-13 17:50:52\n",
       "2        1  Toy Story (1995)       8     4.0  1996-06-05 13:37:51\n",
       "3        1  Toy Story (1995)      10     4.0  1999-11-25 02:44:47\n",
       "4        1  Toy Story (1995)      11     4.5  2009-01-02 01:13:41"
      ]
     },
     "execution_count": 10,
     "metadata": {},
     "output_type": "execute_result"
    }
   ],
   "source": [
    "movies_merged_df=movies_df.merge(ratings_df, on='movieId')\n",
    "movies_merged_df.head()"
   ]
  },
  {
   "cell_type": "code",
   "execution_count": 15,
   "metadata": {},
   "outputs": [
    {
     "data": {
      "text/html": [
       "<div>\n",
       "<style scoped>\n",
       "    .dataframe tbody tr th:only-of-type {\n",
       "        vertical-align: middle;\n",
       "    }\n",
       "\n",
       "    .dataframe tbody tr th {\n",
       "        vertical-align: top;\n",
       "    }\n",
       "\n",
       "    .dataframe thead th {\n",
       "        text-align: right;\n",
       "    }\n",
       "</style>\n",
       "<table border=\"1\" class=\"dataframe\">\n",
       "  <thead>\n",
       "    <tr style=\"text-align: right;\">\n",
       "      <th></th>\n",
       "      <th>title</th>\n",
       "      <th>Average Rating</th>\n",
       "    </tr>\n",
       "  </thead>\n",
       "  <tbody>\n",
       "    <tr>\n",
       "      <th>0</th>\n",
       "      <td>Small Roads (2011)</td>\n",
       "      <td>5.0</td>\n",
       "    </tr>\n",
       "    <tr>\n",
       "      <th>1</th>\n",
       "      <td>Divorce (1945)</td>\n",
       "      <td>5.0</td>\n",
       "    </tr>\n",
       "    <tr>\n",
       "      <th>2</th>\n",
       "      <td>The Beautiful Story (1992)</td>\n",
       "      <td>5.0</td>\n",
       "    </tr>\n",
       "    <tr>\n",
       "      <th>3</th>\n",
       "      <td>Into the Middle of Nowhere (2010)</td>\n",
       "      <td>5.0</td>\n",
       "    </tr>\n",
       "    <tr>\n",
       "      <th>4</th>\n",
       "      <td>The Sea That Thinks (2000)</td>\n",
       "      <td>5.0</td>\n",
       "    </tr>\n",
       "  </tbody>\n",
       "</table>\n",
       "</div>"
      ],
      "text/plain": [
       "                               title  Average Rating\n",
       "0                 Small Roads (2011)             5.0\n",
       "1                     Divorce (1945)             5.0\n",
       "2         The Beautiful Story (1992)             5.0\n",
       "3  Into the Middle of Nowhere (2010)             5.0\n",
       "4         The Sea That Thinks (2000)             5.0"
      ]
     },
     "execution_count": 15,
     "metadata": {},
     "output_type": "execute_result"
    }
   ],
   "source": [
    "movies_average_rating=movies_merged_df.groupby('title')['rating'].mean().sort_values(ascending=False).reset_index().rename(columns={'rating':'Average Rating'})\n",
    "movies_average_rating.head()"
   ]
  },
  {
   "cell_type": "code",
   "execution_count": 16,
   "metadata": {},
   "outputs": [
    {
     "data": {
      "text/html": [
       "<div>\n",
       "<style scoped>\n",
       "    .dataframe tbody tr th:only-of-type {\n",
       "        vertical-align: middle;\n",
       "    }\n",
       "\n",
       "    .dataframe tbody tr th {\n",
       "        vertical-align: top;\n",
       "    }\n",
       "\n",
       "    .dataframe thead th {\n",
       "        text-align: right;\n",
       "    }\n",
       "</style>\n",
       "<table border=\"1\" class=\"dataframe\">\n",
       "  <thead>\n",
       "    <tr style=\"text-align: right;\">\n",
       "      <th></th>\n",
       "      <th>title</th>\n",
       "      <th>Rating Count</th>\n",
       "      <th>Average Rating</th>\n",
       "    </tr>\n",
       "  </thead>\n",
       "  <tbody>\n",
       "    <tr>\n",
       "      <th>0</th>\n",
       "      <td>貞子3D (2012)</td>\n",
       "      <td>1</td>\n",
       "      <td>1.5</td>\n",
       "    </tr>\n",
       "    <tr>\n",
       "      <th>1</th>\n",
       "      <td>Lucky Jordan (1942)</td>\n",
       "      <td>1</td>\n",
       "      <td>3.0</td>\n",
       "    </tr>\n",
       "    <tr>\n",
       "      <th>2</th>\n",
       "      <td>Born to Defense (Zhong hua ying xiong) (1986)</td>\n",
       "      <td>1</td>\n",
       "      <td>3.5</td>\n",
       "    </tr>\n",
       "    <tr>\n",
       "      <th>3</th>\n",
       "      <td>Luck, Trust &amp; Ketchup: Robert Altman in Carver...</td>\n",
       "      <td>1</td>\n",
       "      <td>4.0</td>\n",
       "    </tr>\n",
       "    <tr>\n",
       "      <th>4</th>\n",
       "      <td>Lowlands (Tiefland) (1954)</td>\n",
       "      <td>1</td>\n",
       "      <td>3.5</td>\n",
       "    </tr>\n",
       "  </tbody>\n",
       "</table>\n",
       "</div>"
      ],
      "text/plain": [
       "                                               title  Rating Count  \\\n",
       "0                                        貞子3D (2012)             1   \n",
       "1                                Lucky Jordan (1942)             1   \n",
       "2      Born to Defense (Zhong hua ying xiong) (1986)             1   \n",
       "3  Luck, Trust & Ketchup: Robert Altman in Carver...             1   \n",
       "4                         Lowlands (Tiefland) (1954)             1   \n",
       "\n",
       "   Average Rating  \n",
       "0             1.5  \n",
       "1             3.0  \n",
       "2             3.5  \n",
       "3             4.0  \n",
       "4             3.5  "
      ]
     },
     "execution_count": 16,
     "metadata": {},
     "output_type": "execute_result"
    }
   ],
   "source": [
    "movies_rating_count=movies_merged_df.groupby('title')['rating'].count().sort_values(ascending=True).reset_index().rename(columns={'rating':'Rating Count'})\n",
    "movies_rating_count_avg=movies_rating_count.merge(movies_average_rating, on='title')\n",
    "movies_rating_count_avg.head()"
   ]
  },
  {
   "cell_type": "markdown",
   "metadata": {},
   "source": [
    "## Observation\n",
    "\n",
    " > Many moies have a perfect 5 star average rating on a dataset of almost 100k user ratings.This suggests the existence of outliers which we need to further confirm with visualization.\n",
    " > The presence of single ratings for several movies suggests that i set a threshold value of ratings to produce aluable recommendatons.\n",
    " \n",
    "To further understand my data, I'll create a pandas profiling report for the whole dataset."
   ]
  },
  {
   "cell_type": "code",
   "execution_count": 13,
   "metadata": {},
   "outputs": [],
   "source": [
    "from pandas_profiling import ProfileReport"
   ]
  },
  {
   "cell_type": "code",
   "execution_count": null,
   "metadata": {},
   "outputs": [
    {
     "data": {
      "application/vnd.jupyter.widget-view+json": {
       "model_id": "206d9ba1d29c4f999d63a9af273e0645",
       "version_major": 2,
       "version_minor": 0
      },
      "text/plain": [
       "Summarize dataset:   0%|          | 0/5 [00:00<?, ?it/s]"
      ]
     },
     "metadata": {},
     "output_type": "display_data"
    }
   ],
   "source": [
    "movies_merged_df.profile_report()"
   ]
  },
  {
   "cell_type": "markdown",
   "metadata": {},
   "source": [
    "### Data Visualization\n",
    "\n",
    "I will create plots to make observations and analyz the trends in the data"
   ]
  },
  {
   "cell_type": "code",
   "execution_count": 13,
   "metadata": {},
   "outputs": [],
   "source": [
    "import seaborn as sns\n",
    "import matplotlib.pyplot as plt\n",
    "sns.set(font_scale = 1)\n",
    "plt.rcParams[\"axes.grid\"] = False\n",
    "plt.style.use('dark_background')\n",
    "%matplotlib inline"
   ]
  },
  {
   "cell_type": "code",
   "execution_count": 17,
   "metadata": {},
   "outputs": [
    {
     "data": {
      "image/png": "[encoded data removed]",
      "text/plain": [
       "<Figure size 864x288 with 1 Axes>"
      ]
     },
     "metadata": {
      "needs_background": "dark"
     },
     "output_type": "display_data"
    }
   ],
   "source": [
    "plt.figure(figsize=(12,4))\n",
    "plt.hist(movies_rating_count_avg['Rating Count'],bins=80,color='tab:purple')\n",
    "plt.ylabel('Ratings Count(Scaled)', fontsize=16)\n",
    "plt.savefig('ratingcounthist.jpg')"
   ]
  },
  {
   "cell_type": "code",
   "execution_count": 18,
   "metadata": {},
   "outputs": [
    {
     "data": {
      "image/png": "[encoded data removed]",
      "text/plain": [
       "<Figure size 864x288 with 1 Axes>"
      ]
     },
     "metadata": {
      "needs_background": "dark"
     },
     "output_type": "display_data"
    }
   ],
   "source": [
    "plt.figure(figsize=(12,4))\n",
    "plt.hist(movies_rating_count_avg['Average Rating'], bins=80, color='tab:purple')\n",
    "plt.ylabel('Average Rating',fontsize=16)\n",
    "plt.savefig('avgratinghist.jpg')"
   ]
  },
  {
   "cell_type": "code",
   "execution_count": 20,
   "metadata": {},
   "outputs": [
    {
     "data": {
      "image/png": "[encoded data removed]",
      "text/plain": [
       "<Figure size 432x432 with 3 Axes>"
      ]
     },
     "metadata": {
      "needs_background": "dark"
     },
     "output_type": "display_data"
    }
   ],
   "source": [
    "plot=sns.jointplot(x='Average Rating', y='Rating Count', data=movies_rating_count_avg,alpha=0.5, color='tab:pink')\n",
    "plot.savefig('joinplot.jpg')"
   ]
  },
  {
   "cell_type": "markdown",
   "metadata": {},
   "source": [
    "## Analysis\n",
    "* Plot #1 confirms our observations of a high volume of movies with low ratings count.Apart from setting a threshold, we can also use quantiles at some higher percentile for this usecase\n",
    "* Histogram #2 showcases the distribution function of the Average Rating values.\n",
    "* Jointplot beautifully illustrates that there is only a subset of values with higher rating that have considerable amount of ratings.\n"
   ]
  },
  {
   "cell_type": "markdown",
   "metadata": {},
   "source": [
    "## Eliminating Outliers(less popular movies)"
   ]
  },
  {
   "cell_type": "code",
   "execution_count": 22,
   "metadata": {},
   "outputs": [
    {
     "data": {
      "text/html": [
       "<div>\n",
       "<style scoped>\n",
       "    .dataframe tbody tr th:only-of-type {\n",
       "        vertical-align: middle;\n",
       "    }\n",
       "\n",
       "    .dataframe tbody tr th {\n",
       "        vertical-align: top;\n",
       "    }\n",
       "\n",
       "    .dataframe thead th {\n",
       "        text-align: right;\n",
       "    }\n",
       "</style>\n",
       "<table border=\"1\" class=\"dataframe\">\n",
       "  <thead>\n",
       "    <tr style=\"text-align: right;\">\n",
       "      <th></th>\n",
       "      <th>movieId</th>\n",
       "      <th>title</th>\n",
       "      <th>userId</th>\n",
       "      <th>rating</th>\n",
       "      <th>timestamp</th>\n",
       "      <th>Rating Count</th>\n",
       "    </tr>\n",
       "  </thead>\n",
       "  <tbody>\n",
       "    <tr>\n",
       "      <th>0</th>\n",
       "      <td>1</td>\n",
       "      <td>Toy Story (1995)</td>\n",
       "      <td>3</td>\n",
       "      <td>4.0</td>\n",
       "      <td>1999-12-11 13:36:47</td>\n",
       "      <td>49695</td>\n",
       "    </tr>\n",
       "    <tr>\n",
       "      <th>1</th>\n",
       "      <td>1</td>\n",
       "      <td>Toy Story (1995)</td>\n",
       "      <td>6</td>\n",
       "      <td>5.0</td>\n",
       "      <td>1997-03-13 17:50:52</td>\n",
       "      <td>49695</td>\n",
       "    </tr>\n",
       "    <tr>\n",
       "      <th>2</th>\n",
       "      <td>1</td>\n",
       "      <td>Toy Story (1995)</td>\n",
       "      <td>8</td>\n",
       "      <td>4.0</td>\n",
       "      <td>1996-06-05 13:37:51</td>\n",
       "      <td>49695</td>\n",
       "    </tr>\n",
       "    <tr>\n",
       "      <th>3</th>\n",
       "      <td>1</td>\n",
       "      <td>Toy Story (1995)</td>\n",
       "      <td>10</td>\n",
       "      <td>4.0</td>\n",
       "      <td>1999-11-25 02:44:47</td>\n",
       "      <td>49695</td>\n",
       "    </tr>\n",
       "    <tr>\n",
       "      <th>4</th>\n",
       "      <td>1</td>\n",
       "      <td>Toy Story (1995)</td>\n",
       "      <td>11</td>\n",
       "      <td>4.5</td>\n",
       "      <td>2009-01-02 01:13:41</td>\n",
       "      <td>49695</td>\n",
       "    </tr>\n",
       "  </tbody>\n",
       "</table>\n",
       "</div>"
      ],
      "text/plain": [
       "   movieId             title  userId  rating            timestamp  \\\n",
       "0        1  Toy Story (1995)       3     4.0  1999-12-11 13:36:47   \n",
       "1        1  Toy Story (1995)       6     5.0  1997-03-13 17:50:52   \n",
       "2        1  Toy Story (1995)       8     4.0  1996-06-05 13:37:51   \n",
       "3        1  Toy Story (1995)      10     4.0  1999-11-25 02:44:47   \n",
       "4        1  Toy Story (1995)      11     4.5  2009-01-02 01:13:41   \n",
       "\n",
       "   Rating Count  \n",
       "0         49695  \n",
       "1         49695  \n",
       "2         49695  \n",
       "3         49695  \n",
       "4         49695  "
      ]
     },
     "execution_count": 22,
     "metadata": {},
     "output_type": "execute_result"
    }
   ],
   "source": [
    "rating_with_RatingCount = movies_merged_df.merge(movies_rating_count, left_on = 'title', right_on = 'title', how = 'left')\n",
    "rating_with_RatingCount.head()"
   ]
  },
  {
   "cell_type": "code",
   "execution_count": 23,
   "metadata": {},
   "outputs": [
    {
     "name": "stdout",
     "output_type": "stream",
     "text": [
      "count   20000263.000\n",
      "mean       13480.715\n",
      "std        14111.933\n",
      "min            1.000\n",
      "25%         2963.000\n",
      "50%         8505.000\n",
      "75%        19674.000\n",
      "max        67310.000\n",
      "Name: Rating Count, dtype: float64\n"
     ]
    }
   ],
   "source": [
    "pd.set_option('display.float_format', lambda x: '%.3f'% x)\n",
    "print(rating_with_RatingCount['Rating Count'].describe())"
   ]
  },
  {
   "cell_type": "code",
   "execution_count": 24,
   "metadata": {},
   "outputs": [
    {
     "data": {
      "text/html": [
       "<div>\n",
       "<style scoped>\n",
       "    .dataframe tbody tr th:only-of-type {\n",
       "        vertical-align: middle;\n",
       "    }\n",
       "\n",
       "    .dataframe tbody tr th {\n",
       "        vertical-align: top;\n",
       "    }\n",
       "\n",
       "    .dataframe thead th {\n",
       "        text-align: right;\n",
       "    }\n",
       "</style>\n",
       "<table border=\"1\" class=\"dataframe\">\n",
       "  <thead>\n",
       "    <tr style=\"text-align: right;\">\n",
       "      <th></th>\n",
       "      <th>movieId</th>\n",
       "      <th>title</th>\n",
       "      <th>userId</th>\n",
       "      <th>rating</th>\n",
       "      <th>timestamp</th>\n",
       "      <th>Rating Count</th>\n",
       "    </tr>\n",
       "  </thead>\n",
       "  <tbody>\n",
       "    <tr>\n",
       "      <th>0</th>\n",
       "      <td>1</td>\n",
       "      <td>Toy Story (1995)</td>\n",
       "      <td>3</td>\n",
       "      <td>4.000</td>\n",
       "      <td>1999-12-11 13:36:47</td>\n",
       "      <td>49695</td>\n",
       "    </tr>\n",
       "    <tr>\n",
       "      <th>1</th>\n",
       "      <td>1</td>\n",
       "      <td>Toy Story (1995)</td>\n",
       "      <td>6</td>\n",
       "      <td>5.000</td>\n",
       "      <td>1997-03-13 17:50:52</td>\n",
       "      <td>49695</td>\n",
       "    </tr>\n",
       "    <tr>\n",
       "      <th>2</th>\n",
       "      <td>1</td>\n",
       "      <td>Toy Story (1995)</td>\n",
       "      <td>8</td>\n",
       "      <td>4.000</td>\n",
       "      <td>1996-06-05 13:37:51</td>\n",
       "      <td>49695</td>\n",
       "    </tr>\n",
       "    <tr>\n",
       "      <th>3</th>\n",
       "      <td>1</td>\n",
       "      <td>Toy Story (1995)</td>\n",
       "      <td>10</td>\n",
       "      <td>4.000</td>\n",
       "      <td>1999-11-25 02:44:47</td>\n",
       "      <td>49695</td>\n",
       "    </tr>\n",
       "    <tr>\n",
       "      <th>4</th>\n",
       "      <td>1</td>\n",
       "      <td>Toy Story (1995)</td>\n",
       "      <td>11</td>\n",
       "      <td>4.500</td>\n",
       "      <td>2009-01-02 01:13:41</td>\n",
       "      <td>49695</td>\n",
       "    </tr>\n",
       "  </tbody>\n",
       "</table>\n",
       "</div>"
      ],
      "text/plain": [
       "   movieId             title  userId  rating            timestamp  \\\n",
       "0        1  Toy Story (1995)       3   4.000  1999-12-11 13:36:47   \n",
       "1        1  Toy Story (1995)       6   5.000  1997-03-13 17:50:52   \n",
       "2        1  Toy Story (1995)       8   4.000  1996-06-05 13:37:51   \n",
       "3        1  Toy Story (1995)      10   4.000  1999-11-25 02:44:47   \n",
       "4        1  Toy Story (1995)      11   4.500  2009-01-02 01:13:41   \n",
       "\n",
       "   Rating Count  \n",
       "0         49695  \n",
       "1         49695  \n",
       "2         49695  \n",
       "3         49695  \n",
       "4         49695  "
      ]
     },
     "execution_count": 24,
     "metadata": {},
     "output_type": "execute_result"
    }
   ],
   "source": [
    "popularity_threshold = 50\n",
    "popular_movies = rating_with_RatingCount[rating_with_RatingCount['Rating Count']>=popularity_threshold]\n",
    "popular_movies.head()"
   ]
  },
  {
   "cell_type": "markdown",
   "metadata": {},
   "source": [
    "## Pivoting title as indices & userid as columns"
   ]
  },
  {
   "cell_type": "code",
   "execution_count": null,
   "metadata": {},
   "outputs": [],
   "source": [
    "import os\n",
    "movie_features_df=popular_movies.pivot_table(index='title',columns='userId',values='rating').fillna(0)\n",
    "movie_features_df.head()"
   ]
  },
  {
   "cell_type": "markdown",
   "metadata": {},
   "source": [
    "## Implementing kNN Model"
   ]
  },
  {
   "cell_type": "code",
   "execution_count": null,
   "metadata": {},
   "outputs": [],
   "source": [
    "from scipy.sparse import csr_matrix\n"
   ]
  }
 ],
 "metadata": {
  "kernelspec": {
   "display_name": "Python 3",
   "language": "python",
   "name": "python3"
  },
  "language_info": {
   "codemirror_mode": {
    "name": "ipython",
    "version": 3
   },
   "file_extension": ".py",
   "mimetype": "text/x-python",
   "name": "python",
   "nbconvert_exporter": "python",
   "pygments_lexer": "ipython3",
   "version": "3.7.6"
  }
 },
 "nbformat": 4,
 "nbformat_minor": 4
}
